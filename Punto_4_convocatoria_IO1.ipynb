{
  "nbformat": 4,
  "nbformat_minor": 0,
  "metadata": {
    "colab": {
      "provenance": [],
      "authorship_tag": "ABX9TyOxOPjQ6ALbmlNabC6jCpyK",
      "include_colab_link": true
    },
    "kernelspec": {
      "name": "python3",
      "display_name": "Python 3"
    },
    "language_info": {
      "name": "python"
    }
  },
  "cells": [
    {
      "cell_type": "markdown",
      "metadata": {
        "id": "view-in-github",
        "colab_type": "text"
      },
      "source": [
        "<a href=\"https://colab.research.google.com/github/sobandom/sobandom.github.io/blob/main/Punto_4_convocatoria_IO1.ipynb\" target=\"_parent\"><img src=\"https://colab.research.google.com/assets/colab-badge.svg\" alt=\"Open In Colab\"/></a>"
      ]
    },
    {
      "cell_type": "markdown",
      "source": [
        "Minimizar 3*x + 8*y\n",
        "\n",
        "sujeto a:\n",
        "x + y >= 50;\n",
        "x - y <= 20;\n",
        "x >= 0;\n",
        "y >= 0\n",
        "\n",
        "Siendo x, y números enteros.\n",
        "\n",
        "Para que el codigo pueda aceptar las restricciones, es necesario que sean de menor o igual, por ende:\n",
        "\n",
        "-x -y <= -50\n",
        "\n",
        "Procederemos a resolverlo con la libreria scipy:"
      ],
      "metadata": {
        "id": "xbMVDpesPsyT"
      }
    },
    {
      "cell_type": "code",
      "source": [
        "import numpy as np\n",
        "from scipy.optimize import linprog\n",
        "\n",
        "#Definimos vectores y matrices del problema\n",
        "c = np.array([3,8])\n",
        "A_ub = np.array([[-1,-1],\n",
        "                [1, -1]])\n",
        "b_ub = np.array([-50, 20])\n",
        "x0_bounds = (0, None)\n",
        "x1_bounds = (0, None)\n",
        "bounds = [x0_bounds, x1_bounds]\n",
        "result = linprog(c, A_ub=A_ub, b_ub=b_ub, A_eq=None, b_eq=None, bounds=bounds)\n",
        "\n",
        "#sacamos los resultados\n",
        "print(result)"
      ],
      "metadata": {
        "colab": {
          "base_uri": "https://localhost:8080/"
        },
        "id": "Fur340ybQGBh",
        "outputId": "d5d0629c-2f13-44d5-bb27-0dafdaec45b7"
      },
      "execution_count": 19,
      "outputs": [
        {
          "output_type": "stream",
          "name": "stdout",
          "text": [
            "        message: Optimization terminated successfully. (HiGHS Status 7: Optimal)\n",
            "        success: True\n",
            "         status: 0\n",
            "            fun: 225.0\n",
            "              x: [ 3.500e+01  1.500e+01]\n",
            "            nit: 2\n",
            "          lower:  residual: [ 3.500e+01  1.500e+01]\n",
            "                 marginals: [ 0.000e+00  0.000e+00]\n",
            "          upper:  residual: [       inf        inf]\n",
            "                 marginals: [ 0.000e+00  0.000e+00]\n",
            "          eqlin:  residual: []\n",
            "                 marginals: []\n",
            "        ineqlin:  residual: [ 0.000e+00  0.000e+00]\n",
            "                 marginals: [-5.500e+00 -2.500e+00]\n",
            " mip_node_count: 0\n",
            " mip_dual_bound: 0.0\n",
            "        mip_gap: 0.0\n"
          ]
        }
      ]
    },
    {
      "cell_type": "markdown",
      "source": [
        "Por suerte, la respuesta nos dio en enteros con X=35 y Y=15, pero no fui capaz de colocar correctamente la restricción de enteros."
      ],
      "metadata": {
        "id": "Sp3vjHqSgjRN"
      }
    }
  ]
}